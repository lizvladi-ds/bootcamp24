{
 "cells": [
  {
   "cell_type": "code",
   "execution_count": 1,
   "id": "1c10fcc0",
   "metadata": {},
   "outputs": [],
   "source": [
    "import io\n",
    "import json\n",
    "import logging\n",
    "import matplotlib.pyplot as plt\n",
    "import numpy as np\n",
    "import pandas as pd\n",
    "import pickle\n",
    "import re\n",
    "import seaborn as sns"
   ]
  },
  {
   "cell_type": "code",
   "execution_count": 2,
   "id": "6cd5ea16",
   "metadata": {},
   "outputs": [],
   "source": [
    "from datetime import datetime, timedelta\n",
    "from typing import Any, Dict, Literal, NoReturn"
   ]
  },
  {
   "cell_type": "code",
   "execution_count": 3,
   "id": "361d2b6b",
   "metadata": {},
   "outputs": [],
   "source": [
    "from sklearn.feature_extraction.text import TfidfVectorizer\n",
    "from sklearn.linear_model import LogisticRegression\n",
    "from sklearn.metrics import classification_report\n",
    "from sklearn.model_selection import train_test_split\n",
    "from sklearn.naive_bayes import MultinomialNB"
   ]
  },
  {
   "cell_type": "code",
   "execution_count": 4,
   "id": "fdaac6ec",
   "metadata": {},
   "outputs": [
    {
     "name": "stderr",
     "output_type": "stream",
     "text": [
      "[nltk_data] Downloading package stopwords to\n",
      "[nltk_data]     /Users/lizvladi/nltk_data...\n",
      "[nltk_data]   Package stopwords is already up-to-date!\n",
      "[nltk_data] Downloading package punkt to /Users/lizvladi/nltk_data...\n",
      "[nltk_data]   Package punkt is already up-to-date!\n"
     ]
    }
   ],
   "source": [
    "import nltk\n",
    "nltk.download(\"stopwords\")\n",
    "nltk.download(\"punkt\")\n",
    "from nltk.corpus import stopwords"
   ]
  },
  {
   "cell_type": "code",
   "execution_count": 5,
   "id": "5f0199a2",
   "metadata": {},
   "outputs": [],
   "source": [
    "pd.set_option(\"display.max_colwidth\", None)"
   ]
  },
  {
   "cell_type": "markdown",
   "id": "040bbcaf",
   "metadata": {},
   "source": [
    "# Оглавление:\n",
    "* [Описание задания](#zadanie)\n",
    "* [Обучение в ноутбуке](#notebook)\n",
    "* [Основы AirFlow](#airflow)\n",
    "* [py-файл](#py)"
   ]
  },
  {
   "cell_type": "markdown",
   "id": "5f00c68d",
   "metadata": {},
   "source": [
    "# Описание задания <a class=\"anchor\" id=\"zadanie\"></a>\n",
    "\n",
    "В этом примере мы приследуем цель научиться использоват AirFlow для обучения моделей.\n",
    "Первым делом, в этом ноутбуке мы посмотрим на данные, сделаем легкий препроцессинг(TFidf) и обучим 2 простых модели: логистическую регрессию и наивный Байес для предсказания темы новостей.\n",
    "Далее мы перейдем к написанию py-файла с AirFlow-пайплайном. В этом файле мы разделим пайплайн на следующие части:\n",
    "  - инициализация пайплайна и выбор размера датасета (2 года с текущего дня)\n",
    "  - чтение данных из Postgres\n",
    "  - препроцессинг данных\n",
    "  - обучение моделей:\n",
    "    - логистическая регрессия\n",
    "    - наивный Байес\n",
    "  - сохранение результатов\n",
    "  \n",
    "Для хранения промежуточных датасетов мы будем использовать S3."
   ]
  },
  {
   "cell_type": "markdown",
   "id": "9708ba73",
   "metadata": {},
   "source": [
    "# Обучение в ноутбуке <a id=\"notebook\"></a>"
   ]
  },
  {
   "cell_type": "code",
   "execution_count": 43,
   "id": "5e212f6c",
   "metadata": {},
   "outputs": [
    {
     "data": {
      "text/plain": [
       "array(['Кино', 'Общество', 'Происшествия', 'Бизнес', 'Политика',\n",
       "       'Госэкономика', 'Наука', 'Интернет', 'Футбол', 'Следствие и суд'],\n",
       "      dtype=object)"
      ]
     },
     "execution_count": 43,
     "metadata": {},
     "output_type": "execute_result"
    }
   ],
   "source": [
    "data['tags'].unique()"
   ]
  },
  {
   "cell_type": "code",
   "execution_count": 6,
   "id": "6049fc46",
   "metadata": {},
   "outputs": [],
   "source": [
    "# Чтение данных.\n",
    "data = pd.read_csv(\"news_dataset.csv\", low_memory=False)"
   ]
  },
  {
   "cell_type": "code",
   "execution_count": 7,
   "id": "ab5b7107",
   "metadata": {},
   "outputs": [
    {
     "data": {
      "text/html": [
       "<div>\n",
       "<style scoped>\n",
       "    .dataframe tbody tr th:only-of-type {\n",
       "        vertical-align: middle;\n",
       "    }\n",
       "\n",
       "    .dataframe tbody tr th {\n",
       "        vertical-align: top;\n",
       "    }\n",
       "\n",
       "    .dataframe thead th {\n",
       "        text-align: right;\n",
       "    }\n",
       "</style>\n",
       "<table border=\"1\" class=\"dataframe\">\n",
       "  <thead>\n",
       "    <tr style=\"text-align: right;\">\n",
       "      <th></th>\n",
       "      <th>url</th>\n",
       "      <th>title</th>\n",
       "      <th>text</th>\n",
       "      <th>topic</th>\n",
       "      <th>tags</th>\n",
       "      <th>date</th>\n",
       "    </tr>\n",
       "  </thead>\n",
       "  <tbody>\n",
       "    <tr>\n",
       "      <th>0</th>\n",
       "      <td>https://lenta.ru/news/2008/04/25/snipes/</td>\n",
       "      <td>Уэсли Снайпса приговорили к трем годам тюрьмы</td>\n",
       "      <td>Американского актера Уэсли Снайпса в четверг приговорили к трем годам тюремного заключения за неуплату налогов в период с 1999 по 2004 годы, передает агентство France Presse. Таким образом, актер получил максимальный срок за каждый из трех эпизодов неуплаты налогов. Ранее со Снайпса сняли более серьезные обвинения в мошенничестве и сговоре с целью ввести в заблуждение налоговую службу. На судебном заседании в четверг адвокаты исполнителя роли Блейда в одноименной трилогии представили три десятка писем от членов его семьи, друзей и коллег-актеров, в которых описывался его прекрасный характер. Защита настаивала, что Снайпсу будет достаточно условного наказания, так как ранее он к суду не привлекался. Обвинение в неуплате налогов на сумму в 2,7 миллиона долларов было предъявлено Снайпсу и еще двум соответчикам по делу в 2006 году. Как утверждали адвокаты актера, он не осознавал, что действует незаконно. Между тем приговоры в отношении соответчиков Снайпса Эдди Рея Кана (Eddie Ray Kahn) и Дугласа Росайла (Douglas Rosile) будут вынесены в ближайшее время. По версии обвинения, Кан руководил фирмой, разрабатывавшей мошеннические схемы уклонения от налогов, а Росайл осуществлял бухгалтерскую деятельность с истекшей лицензией. Первому грозит до десяти лет лишения свободы, а второму - до шести, добавляет агентство Associated Press.</td>\n",
       "      <td>Культура</td>\n",
       "      <td>Кино</td>\n",
       "      <td>2012-06-03</td>\n",
       "    </tr>\n",
       "    <tr>\n",
       "      <th>1</th>\n",
       "      <td>https://lenta.ru/news/2009/11/13/birth/</td>\n",
       "      <td>Сеульские власти повысят рождаемость путем организации знакомств</td>\n",
       "      <td>Власти одного из районов столицы Южной Кореи запустили программу организации знакомств одиноких мужчин и женщин. Об этом 13 ноября сообщает AFP. В районе Сеула Гангнаме фиксируется очень высокий уровень благосостояния граждан, но очень низкий уровень рождаемости. Власти предоставляют молодым родителям крупные денежные бонусы: миллион вон (854 доллара) за рождение второго ребенка, пять миллионов за третьего ребенка и десять миллионов за четвертого. Однако ситуация не улучшается. Чиновники пришли к выводу, что многие местные жители не обзаводятся потомством просто потому, что не имеют пары. Они слишком заняты работой, чтобы устраивать личную жизнь. По данным The Korea Times, в Гангнаме незамужними остаются 65 процентов женщин 25-34 лет (при среднем показателе по городу 51 процент). В связи с этим районные власти решили взять сватовство на себя. Теперь в Гангнаме трижды в год по субботам будет устраиваться встреча 30 мужчин и 30 женщин, желающих найти спутника жизни. Первая такая встреча пройдет 14 ноября 2009 года. На мероприятие приглашены офисные служащие, преподаватели и работники интеллектуального труда в возрасте от 27 до 40 лет. В ходе встречи будут проводиться различные игры. В конце каждому участнику предложат выбрать троих людей, которым он хотел бы назначить свидание. Уровень рождаемости во всей Южной Корее в настоящее время очень низок. На одну женщину репродуктивного возраста приходится в среднем 1,2 ребенка (тогда как для простого воспроизводства населения необходимо 2,1 ребенка). В Гангнаме же уровень рождаемости составляет 0,8 ребенка на женщину. Комментируя программу организации знакомств, эксперт Корейского института здравоохранения и социальных дел Шин Юн Чжон сказал, что данная инициатива может способствовать повышению уровня рождаемости, но полностью решить проблему таким образом не удастся. По мнению Чжона, для решения проблемы необходимо изменить взгляды современного общества на работающих женщин, а также обеспечить более благоприятные условия для воспитания детей.</td>\n",
       "      <td>Мир</td>\n",
       "      <td>Общество</td>\n",
       "      <td>2013-12-22</td>\n",
       "    </tr>\n",
       "    <tr>\n",
       "      <th>2</th>\n",
       "      <td>https://lenta.ru/news/2011/06/08/killerbear/</td>\n",
       "      <td>Канадских автомобилистов убило сбитым на дороге медведем</td>\n",
       "      <td>На трассе в Канаде произошло ДТП с участием медведя. Как сообщает Fox News, в результате инцидента погибли два человека. Инцидент произошел поздно вечером в понедельник, 6 июня, на трассе в районе города Люксвиль, провинция Квебек. Автомобиль Pontiac Sunfire сбил медведя, вышедшего на дорогу. От удара животное отбросило на встречную полосу, по которой в этот момент двигался джип Nissan Pathfinder. По словам полицейских, удар был такой силы, что 200-килограммовый медведь прошиб собой лобовое стекло джипа, пролетел сквозь машину и вывалился из окна задней двери. Во внедорожнике находились трое человек. От столкновения с летящим медведем 25-летняя женщина, сидевшая за рулем, погибла на месте. Также погиб 40-летний пассажир, сидевший сзади за водительским сиденьем. 28-летний бойфренд женщины выжил, хотя и сидел на переднем сиденье. Медведь от полученных травм также скончался. Уточняется, что речь идет о молодом барибале или черном медведе - самом распространенном представителе медвежьих в Северной Америке. Следователи объясняют случившееся особенностями конструкции \"Понтиака\" - низкой и обтекаемой машины, которая при ударе подбросила медведя в воздух. Известно, что ни один из участвовавших в аварии водителей не был пьян. Превышал ли кто-то из них скорость, пока не установлено (скоростное ограничение в этом районе трассы - 90 километров в час). В полиции ДТП с участием медведя называют необычным. Как признаются полицейские, они не помнят другого случая, когда люди гибли на дороге при таких обстоятельствах. Между тем издание The Ottawa Citizen отмечает, что это как минимум второй подобный случай в Канаде. В 1994 году супружеская пара погибла на трассе, когда к ним в автомобиль через лобовое стекло влетел 70-килограммовый олень, сбитый встречной машиной.</td>\n",
       "      <td>Мир</td>\n",
       "      <td>Происшествия</td>\n",
       "      <td>2015-07-17</td>\n",
       "    </tr>\n",
       "  </tbody>\n",
       "</table>\n",
       "</div>"
      ],
      "text/plain": [
       "                                            url  \\\n",
       "0      https://lenta.ru/news/2008/04/25/snipes/   \n",
       "1       https://lenta.ru/news/2009/11/13/birth/   \n",
       "2  https://lenta.ru/news/2011/06/08/killerbear/   \n",
       "\n",
       "                                                              title  \\\n",
       "0                     Уэсли Снайпса приговорили к трем годам тюрьмы   \n",
       "1  Сеульские власти повысят рождаемость путем организации знакомств   \n",
       "2          Канадских автомобилистов убило сбитым на дороге медведем   \n",
       "\n",
       "                                                                                                                                                                                                                                                                                                                                                                                                                                                                                                                                                                                                                                                                                                                                                                                                                                                                                                                                                                                                                                                                                                                                                                                                                                                                                                                                                                                                                                                                                                                                                                                                                                                                                                                                                                                                                                                                                                                                                                                                                                                                                                  text  \\\n",
       "0                                                                                                                                                                                                                                                                                                                                                                                                                                                                                                                                                                                                                                                                                                      Американского актера Уэсли Снайпса в четверг приговорили к трем годам тюремного заключения за неуплату налогов в период с 1999 по 2004 годы, передает агентство France Presse. Таким образом, актер получил максимальный срок за каждый из трех эпизодов неуплаты налогов. Ранее со Снайпса сняли более серьезные обвинения в мошенничестве и сговоре с целью ввести в заблуждение налоговую службу. На судебном заседании в четверг адвокаты исполнителя роли Блейда в одноименной трилогии представили три десятка писем от членов его семьи, друзей и коллег-актеров, в которых описывался его прекрасный характер. Защита настаивала, что Снайпсу будет достаточно условного наказания, так как ранее он к суду не привлекался. Обвинение в неуплате налогов на сумму в 2,7 миллиона долларов было предъявлено Снайпсу и еще двум соответчикам по делу в 2006 году. Как утверждали адвокаты актера, он не осознавал, что действует незаконно. Между тем приговоры в отношении соответчиков Снайпса Эдди Рея Кана (Eddie Ray Kahn) и Дугласа Росайла (Douglas Rosile) будут вынесены в ближайшее время. По версии обвинения, Кан руководил фирмой, разрабатывавшей мошеннические схемы уклонения от налогов, а Росайл осуществлял бухгалтерскую деятельность с истекшей лицензией. Первому грозит до десяти лет лишения свободы, а второму - до шести, добавляет агентство Associated Press.   \n",
       "1  Власти одного из районов столицы Южной Кореи запустили программу организации знакомств одиноких мужчин и женщин. Об этом 13 ноября сообщает AFP. В районе Сеула Гангнаме фиксируется очень высокий уровень благосостояния граждан, но очень низкий уровень рождаемости. Власти предоставляют молодым родителям крупные денежные бонусы: миллион вон (854 доллара) за рождение второго ребенка, пять миллионов за третьего ребенка и десять миллионов за четвертого. Однако ситуация не улучшается. Чиновники пришли к выводу, что многие местные жители не обзаводятся потомством просто потому, что не имеют пары. Они слишком заняты работой, чтобы устраивать личную жизнь. По данным The Korea Times, в Гангнаме незамужними остаются 65 процентов женщин 25-34 лет (при среднем показателе по городу 51 процент). В связи с этим районные власти решили взять сватовство на себя. Теперь в Гангнаме трижды в год по субботам будет устраиваться встреча 30 мужчин и 30 женщин, желающих найти спутника жизни. Первая такая встреча пройдет 14 ноября 2009 года. На мероприятие приглашены офисные служащие, преподаватели и работники интеллектуального труда в возрасте от 27 до 40 лет. В ходе встречи будут проводиться различные игры. В конце каждому участнику предложат выбрать троих людей, которым он хотел бы назначить свидание. Уровень рождаемости во всей Южной Корее в настоящее время очень низок. На одну женщину репродуктивного возраста приходится в среднем 1,2 ребенка (тогда как для простого воспроизводства населения необходимо 2,1 ребенка). В Гангнаме же уровень рождаемости составляет 0,8 ребенка на женщину. Комментируя программу организации знакомств, эксперт Корейского института здравоохранения и социальных дел Шин Юн Чжон сказал, что данная инициатива может способствовать повышению уровня рождаемости, но полностью решить проблему таким образом не удастся. По мнению Чжона, для решения проблемы необходимо изменить взгляды современного общества на работающих женщин, а также обеспечить более благоприятные условия для воспитания детей.   \n",
       "2                                                                                                                                                                                                                                                    На трассе в Канаде произошло ДТП с участием медведя. Как сообщает Fox News, в результате инцидента погибли два человека. Инцидент произошел поздно вечером в понедельник, 6 июня, на трассе в районе города Люксвиль, провинция Квебек. Автомобиль Pontiac Sunfire сбил медведя, вышедшего на дорогу. От удара животное отбросило на встречную полосу, по которой в этот момент двигался джип Nissan Pathfinder. По словам полицейских, удар был такой силы, что 200-килограммовый медведь прошиб собой лобовое стекло джипа, пролетел сквозь машину и вывалился из окна задней двери. Во внедорожнике находились трое человек. От столкновения с летящим медведем 25-летняя женщина, сидевшая за рулем, погибла на месте. Также погиб 40-летний пассажир, сидевший сзади за водительским сиденьем. 28-летний бойфренд женщины выжил, хотя и сидел на переднем сиденье. Медведь от полученных травм также скончался. Уточняется, что речь идет о молодом барибале или черном медведе - самом распространенном представителе медвежьих в Северной Америке. Следователи объясняют случившееся особенностями конструкции \"Понтиака\" - низкой и обтекаемой машины, которая при ударе подбросила медведя в воздух. Известно, что ни один из участвовавших в аварии водителей не был пьян. Превышал ли кто-то из них скорость, пока не установлено (скоростное ограничение в этом районе трассы - 90 километров в час). В полиции ДТП с участием медведя называют необычным. Как признаются полицейские, они не помнят другого случая, когда люди гибли на дороге при таких обстоятельствах. Между тем издание The Ottawa Citizen отмечает, что это как минимум второй подобный случай в Канаде. В 1994 году супружеская пара погибла на трассе, когда к ним в автомобиль через лобовое стекло влетел 70-килограммовый олень, сбитый встречной машиной.   \n",
       "\n",
       "      topic          tags        date  \n",
       "0  Культура          Кино  2012-06-03  \n",
       "1       Мир      Общество  2013-12-22  \n",
       "2       Мир  Происшествия  2015-07-17  "
      ]
     },
     "execution_count": 7,
     "metadata": {},
     "output_type": "execute_result"
    }
   ],
   "source": [
    "data.head(3)"
   ]
  },
  {
   "cell_type": "code",
   "execution_count": 8,
   "id": "7d5e526c",
   "metadata": {},
   "outputs": [
    {
     "data": {
      "text/plain": [
       "(172708, 6)"
      ]
     },
     "execution_count": 8,
     "metadata": {},
     "output_type": "execute_result"
    }
   ],
   "source": [
    "data.shape"
   ]
  },
  {
   "cell_type": "markdown",
   "id": "2df24034",
   "metadata": {},
   "source": [
    "У нас есть датасет новостей из lenta.ru с заголовками и классами(tags) этих статей. Давайте посмотрим, что за темы в нем представлены."
   ]
  },
  {
   "cell_type": "code",
   "execution_count": 11,
   "id": "52a640c9",
   "metadata": {},
   "outputs": [
    {
     "name": "stderr",
     "output_type": "stream",
     "text": [
      "/opt/homebrew/Caskroom/miniconda/base/envs/nlp_env/lib/python3.11/site-packages/seaborn/_oldcore.py:1119: FutureWarning: use_inf_as_na option is deprecated and will be removed in a future version. Convert inf values to NaN before operating instead.\n",
      "  with pd.option_context('mode.use_inf_as_na', True):\n"
     ]
    },
    {
     "data": {
      "image/png": "[encoded data removed]",
      "text/plain": [
       "<Figure size 500x500 with 1 Axes>"
      ]
     },
     "metadata": {},
     "output_type": "display_data"
    }
   ],
   "source": [
    "# Осмотр tartet-переменной.\n",
    "g = sns.displot(data[\"tags\"])\n",
    "plt.xticks(rotation=65)\n",
    "plt.show()"
   ]
  },
  {
   "cell_type": "markdown",
   "id": "718f5a49",
   "metadata": {},
   "source": [
    "Теперь посмотрим, как выглядит новость."
   ]
  },
  {
   "cell_type": "code",
   "execution_count": 12,
   "id": "f8017e96",
   "metadata": {},
   "outputs": [
    {
     "data": {
      "text/plain": [
       "'Власти одного из районов столицы Южной Кореи запустили программу организации знакомств одиноких мужчин и женщин. Об этом 13 ноября сообщает AFP. В районе Сеула Гангнаме фиксируется очень высокий уровень благосостояния граждан, но очень низкий уровень рождаемости. Власти предоставляют молодым родителям крупные денежные бонусы: миллион вон (854 доллара) за рождение второго ребенка, пять миллионов за третьего ребенка и десять миллионов за четвертого. Однако ситуация не улучшается. Чиновники пришли к выводу, что многие местные жители не обзаводятся потомством просто потому, что не имеют пары. Они слишком заняты работой, чтобы устраивать личную жизнь. По данным The Korea Times, в Гангнаме незамужними остаются 65 процентов женщин 25-34 лет (при среднем показателе по городу 51 процент). В связи с этим районные власти решили взять сватовство на себя. Теперь в Гангнаме трижды в год по субботам будет устраиваться встреча 30 мужчин и 30 женщин, желающих найти спутника жизни. Первая такая встреча пройдет 14 ноября 2009 года. На мероприятие приглашены офисные служащие, преподаватели и работники интеллектуального труда в возрасте от 27 до 40 лет. В ходе встречи будут проводиться различные игры. В конце каждому участнику предложат выбрать троих людей, которым он хотел бы назначить свидание. Уровень рождаемости во всей Южной Корее в настоящее время очень низок. На одну женщину репродуктивного возраста приходится в среднем 1,2 ребенка (тогда как для простого воспроизводства населения необходимо 2,1 ребенка). В Гангнаме же уровень рождаемости составляет 0,8 ребенка на женщину. Комментируя программу организации знакомств, эксперт Корейского института здравоохранения и социальных дел Шин Юн Чжон сказал, что данная инициатива может способствовать повышению уровня рождаемости, но полностью решить проблему таким образом не удастся. По мнению Чжона, для решения проблемы необходимо изменить взгляды современного общества на работающих женщин, а также обеспечить более благоприятные условия для воспитания детей.'"
      ]
     },
     "execution_count": 12,
     "metadata": {},
     "output_type": "execute_result"
    }
   ],
   "source": [
    "data[\"text\"].iloc[1]"
   ]
  },
  {
   "cell_type": "markdown",
   "id": "a1e1098f",
   "metadata": {},
   "source": [
    "Так как это датасет официальных новостей, в нём не очень много мусора. Тем не менее, есть смысл выкинуть цифры и спец символы из текстов, для этого напишем функцию."
   ]
  },
  {
   "cell_type": "code",
   "execution_count": 13,
   "id": "5a75a489",
   "metadata": {},
   "outputs": [],
   "source": [
    "def preprocess_text(text):\n",
    "    text = text.lower()\n",
    "\n",
    "    text = re.sub(r\"\\d+\", \"\", text)  # убрать цифры\n",
    "    text = re.sub(r\"[^\\w\\s]\", \"\", text)  # убрать специальные символы\n",
    "\n",
    "    tokens = nltk.word_tokenize(text, language=\"russian\")\n",
    "\n",
    "    return tokens\n",
    "\n",
    "\n",
    "def remove_stopwords(tokens):\n",
    "    stop_words = set(stopwords.words(\"russian\"))\n",
    "    clean_tokens = [token for token in tokens if token not in stop_words]\n",
    "\n",
    "    return \" \".join(tokens)"
   ]
  },
  {
   "cell_type": "code",
   "execution_count": 14,
   "id": "a6b47d2c",
   "metadata": {},
   "outputs": [],
   "source": [
    "data[\"prepared_texts\"] = data[\"text\"].apply(preprocess_text)"
   ]
  },
  {
   "cell_type": "code",
   "execution_count": 15,
   "id": "b1eedb09",
   "metadata": {},
   "outputs": [],
   "source": [
    "data[\"prepared_texts\"] = data[\"prepared_texts\"].apply(remove_stopwords)"
   ]
  },
  {
   "cell_type": "markdown",
   "id": "4229874f",
   "metadata": {},
   "source": [
    "Посмотрим, что у нас получилось:"
   ]
  },
  {
   "cell_type": "code",
   "execution_count": 16,
   "id": "13ca9671",
   "metadata": {},
   "outputs": [
    {
     "data": {
      "text/plain": [
       "'власти одного из районов столицы южной кореи запустили программу организации знакомств одиноких мужчин и женщин об этом ноября сообщает afp в районе сеула гангнаме фиксируется очень высокий уровень благосостояния граждан но очень низкий уровень рождаемости власти предоставляют молодым родителям крупные денежные бонусы миллион вон доллара за рождение второго ребенка пять миллионов за третьего ребенка и десять миллионов за четвертого однако ситуация не улучшается чиновники пришли к выводу что многие местные жители не обзаводятся потомством просто потому что не имеют пары они слишком заняты работой чтобы устраивать личную жизнь по данным the korea times в гангнаме незамужними остаются процентов женщин лет при среднем показателе по городу процент в связи с этим районные власти решили взять сватовство на себя теперь в гангнаме трижды в год по субботам будет устраиваться встреча мужчин и женщин желающих найти спутника жизни первая такая встреча пройдет ноября года на мероприятие приглашены офисные служащие преподаватели и работники интеллектуального труда в возрасте от до лет в ходе встречи будут проводиться различные игры в конце каждому участнику предложат выбрать троих людей которым он хотел бы назначить свидание уровень рождаемости во всей южной корее в настоящее время очень низок на одну женщину репродуктивного возраста приходится в среднем ребенка тогда как для простого воспроизводства населения необходимо ребенка в гангнаме же уровень рождаемости составляет ребенка на женщину комментируя программу организации знакомств эксперт корейского института здравоохранения и социальных дел шин юн чжон сказал что данная инициатива может способствовать повышению уровня рождаемости но полностью решить проблему таким образом не удастся по мнению чжона для решения проблемы необходимо изменить взгляды современного общества на работающих женщин а также обеспечить более благоприятные условия для воспитания детей'"
      ]
     },
     "execution_count": 16,
     "metadata": {},
     "output_type": "execute_result"
    }
   ],
   "source": [
    "data[\"prepared_texts\"].iloc[1]"
   ]
  },
  {
   "cell_type": "markdown",
   "id": "4f801762",
   "metadata": {},
   "source": [
    "Теперь займемся созданием TfidfVectorizer и применением его к данным. Обучим его на train, применем к train и test7."
   ]
  },
  {
   "cell_type": "code",
   "execution_count": 17,
   "id": "a7e86dcb",
   "metadata": {},
   "outputs": [],
   "source": [
    "tfidfvectorizer = TfidfVectorizer(analyzer=\"word\",\n",
    "                                  lowercase=False)"
   ]
  },
  {
   "cell_type": "markdown",
   "id": "b1a1d547",
   "metadata": {},
   "source": [
    "Проверим на первых 100 строках"
   ]
  },
  {
   "cell_type": "code",
   "execution_count": 18,
   "id": "c6c32245",
   "metadata": {},
   "outputs": [],
   "source": [
    "tfidf_test = tfidfvectorizer.fit_transform(data[\"prepared_texts\"].iloc[:100])"
   ]
  },
  {
   "cell_type": "code",
   "execution_count": 19,
   "id": "2aa31c6f",
   "metadata": {},
   "outputs": [
    {
     "data": {
      "text/plain": [
       "<100x7744 sparse matrix of type '<class 'numpy.float64'>'\n",
       "\twith 14642 stored elements in Compressed Sparse Row format>"
      ]
     },
     "execution_count": 19,
     "metadata": {},
     "output_type": "execute_result"
    }
   ],
   "source": [
    "tfidf_test"
   ]
  },
  {
   "cell_type": "markdown",
   "id": "6b057856",
   "metadata": {},
   "source": [
    "Всё хорошо. Теперь давайте перепишем наш код следующим образом:\n",
    "  - Сделаем единую функцию для деления на train/test и  препроцессинга\n",
    "  - изменим return функции preprocess_text для того, чтобы использовать его прямо внутри TfidfVectorizer"
   ]
  },
  {
   "cell_type": "code",
   "execution_count": 20,
   "id": "623da599",
   "metadata": {},
   "outputs": [],
   "source": [
    "def preprocess_text(text:str) -> str:\n",
    "    text = text.lower()\n",
    "\n",
    "    text = re.sub(r\"\\d+\", \"\", text)  # убрать цифры\n",
    "    text = re.sub(r\"[^\\w\\s]\", \"\", text)  # убрать специальные символы\n",
    "\n",
    "    tokens = nltk.word_tokenize(text, language=\"russian\")\n",
    "\n",
    "    return \" \".join(tokens)"
   ]
  },
  {
   "cell_type": "code",
   "execution_count": 21,
   "id": "96af2c3b",
   "metadata": {},
   "outputs": [],
   "source": [
    "def preprocess_data(data: pd.DataFrame) -> Tuple[np.array, np.array, pd.Series, pd.Series]:\n",
    "    \n",
    "    # Разделить на train и test\n",
    "    train, test = train_test_split(data, test_size=0.2, stratify=data[\"tags\"])\n",
    "\n",
    "    # Подготовить TFidf\n",
    "    tfidfvectorizer = TfidfVectorizer(analyzer=\"word\",\n",
    "                                      lowercase=False,\n",
    "                                      stop_words=list(\n",
    "                                          stopwords.words(\"russian\")),\n",
    "                                      preprocessor=preprocess_text)\n",
    "\n",
    "    # Обучить TFidf на train, применить к train и test\n",
    "    X_train = tfidfvectorizer.fit_transform(train[\"text\"])\n",
    "    X_test = tfidfvectorizer.transform(test[\"text\"])\n",
    "\n",
    "    y_train = train[\"tags\"]\n",
    "    y_test = test[\"tags\"]\n",
    "\n",
    "    return X_train, X_test, y_train, y_test"
   ]
  },
  {
   "cell_type": "markdown",
   "id": "2f206e9a",
   "metadata": {},
   "source": [
    "Получем датасеты для обучения"
   ]
  },
  {
   "cell_type": "code",
   "execution_count": 22,
   "id": "e907b86c",
   "metadata": {},
   "outputs": [],
   "source": [
    "X_train, X_test, y_train, y_test = preprocess_data(data)"
   ]
  },
  {
   "cell_type": "markdown",
   "id": "08d6b011",
   "metadata": {},
   "source": [
    "Обучаем логистическую регрессию"
   ]
  },
  {
   "cell_type": "code",
   "execution_count": 23,
   "id": "c782fcdf",
   "metadata": {},
   "outputs": [],
   "source": [
    "model_lr = LogisticRegression(max_iter=1000)"
   ]
  },
  {
   "cell_type": "code",
   "execution_count": 24,
   "id": "7fe5b149",
   "metadata": {},
   "outputs": [
    {
     "data": {
      "text/html": [
       "<style>#sk-container-id-1 {color: black;}#sk-container-id-1 pre{padding: 0;}#sk-container-id-1 div.sk-toggleable {background-color: white;}#sk-container-id-1 label.sk-toggleable__label {cursor: pointer;display: block;width: 100%;margin-bottom: 0;padding: 0.3em;box-sizing: border-box;text-align: center;}#sk-container-id-1 label.sk-toggleable__label-arrow:before {content: \"▸\";float: left;margin-right: 0.25em;color: #696969;}#sk-container-id-1 label.sk-toggleable__label-arrow:hover:before {color: black;}#sk-container-id-1 div.sk-estimator:hover label.sk-toggleable__label-arrow:before {color: black;}#sk-container-id-1 div.sk-toggleable__content {max-height: 0;max-width: 0;overflow: hidden;text-align: left;background-color: #f0f8ff;}#sk-container-id-1 div.sk-toggleable__content pre {margin: 0.2em;color: black;border-radius: 0.25em;background-color: #f0f8ff;}#sk-container-id-1 input.sk-toggleable__control:checked~div.sk-toggleable__content {max-height: 200px;max-width: 100%;overflow: auto;}#sk-container-id-1 input.sk-toggleable__control:checked~label.sk-toggleable__label-arrow:before {content: \"▾\";}#sk-container-id-1 div.sk-estimator input.sk-toggleable__control:checked~label.sk-toggleable__label {background-color: #d4ebff;}#sk-container-id-1 div.sk-label input.sk-toggleable__control:checked~label.sk-toggleable__label {background-color: #d4ebff;}#sk-container-id-1 input.sk-hidden--visually {border: 0;clip: rect(1px 1px 1px 1px);clip: rect(1px, 1px, 1px, 1px);height: 1px;margin: -1px;overflow: hidden;padding: 0;position: absolute;width: 1px;}#sk-container-id-1 div.sk-estimator {font-family: monospace;background-color: #f0f8ff;border: 1px dotted black;border-radius: 0.25em;box-sizing: border-box;margin-bottom: 0.5em;}#sk-container-id-1 div.sk-estimator:hover {background-color: #d4ebff;}#sk-container-id-1 div.sk-parallel-item::after {content: \"\";width: 100%;border-bottom: 1px solid gray;flex-grow: 1;}#sk-container-id-1 div.sk-label:hover label.sk-toggleable__label {background-color: #d4ebff;}#sk-container-id-1 div.sk-serial::before {content: \"\";position: absolute;border-left: 1px solid gray;box-sizing: border-box;top: 0;bottom: 0;left: 50%;z-index: 0;}#sk-container-id-1 div.sk-serial {display: flex;flex-direction: column;align-items: center;background-color: white;padding-right: 0.2em;padding-left: 0.2em;position: relative;}#sk-container-id-1 div.sk-item {position: relative;z-index: 1;}#sk-container-id-1 div.sk-parallel {display: flex;align-items: stretch;justify-content: center;background-color: white;position: relative;}#sk-container-id-1 div.sk-item::before, #sk-container-id-1 div.sk-parallel-item::before {content: \"\";position: absolute;border-left: 1px solid gray;box-sizing: border-box;top: 0;bottom: 0;left: 50%;z-index: -1;}#sk-container-id-1 div.sk-parallel-item {display: flex;flex-direction: column;z-index: 1;position: relative;background-color: white;}#sk-container-id-1 div.sk-parallel-item:first-child::after {align-self: flex-end;width: 50%;}#sk-container-id-1 div.sk-parallel-item:last-child::after {align-self: flex-start;width: 50%;}#sk-container-id-1 div.sk-parallel-item:only-child::after {width: 0;}#sk-container-id-1 div.sk-dashed-wrapped {border: 1px dashed gray;margin: 0 0.4em 0.5em 0.4em;box-sizing: border-box;padding-bottom: 0.4em;background-color: white;}#sk-container-id-1 div.sk-label label {font-family: monospace;font-weight: bold;display: inline-block;line-height: 1.2em;}#sk-container-id-1 div.sk-label-container {text-align: center;}#sk-container-id-1 div.sk-container {/* jupyter's `normalize.less` sets `[hidden] { display: none; }` but bootstrap.min.css set `[hidden] { display: none !important; }` so we also need the `!important` here to be able to override the default hidden behavior on the sphinx rendered scikit-learn.org. See: https://github.com/scikit-learn/scikit-learn/issues/21755 */display: inline-block !important;position: relative;}#sk-container-id-1 div.sk-text-repr-fallback {display: none;}</style><div id=\"sk-container-id-1\" class=\"sk-top-container\"><div class=\"sk-text-repr-fallback\"><pre>LogisticRegression(max_iter=1000)</pre><b>In a Jupyter environment, please rerun this cell to show the HTML representation or trust the notebook. <br />On GitHub, the HTML representation is unable to render, please try loading this page with nbviewer.org.</b></div><div class=\"sk-container\" hidden><div class=\"sk-item\"><div class=\"sk-estimator sk-toggleable\"><input class=\"sk-toggleable__control sk-hidden--visually\" id=\"sk-estimator-id-1\" type=\"checkbox\" checked><label for=\"sk-estimator-id-1\" class=\"sk-toggleable__label sk-toggleable__label-arrow\">LogisticRegression</label><div class=\"sk-toggleable__content\"><pre>LogisticRegression(max_iter=1000)</pre></div></div></div></div></div>"
      ],
      "text/plain": [
       "LogisticRegression(max_iter=1000)"
      ]
     },
     "execution_count": 24,
     "metadata": {},
     "output_type": "execute_result"
    }
   ],
   "source": [
    "model_lr.fit(X_train, y_train)"
   ]
  },
  {
   "cell_type": "code",
   "execution_count": 26,
   "id": "66f1c7a0",
   "metadata": {},
   "outputs": [],
   "source": [
    "y_pred_lr = model_lr.predict(X_test)"
   ]
  },
  {
   "cell_type": "code",
   "execution_count": 27,
   "id": "34fb9052",
   "metadata": {},
   "outputs": [
    {
     "name": "stdout",
     "output_type": "stream",
     "text": [
      "                 precision    recall  f1-score   support\n",
      "\n",
      "         Бизнес       0.81      0.76      0.78      1829\n",
      "   Госэкономика       0.86      0.84      0.85      3095\n",
      "       Интернет       0.87      0.79      0.83      1864\n",
      "           Кино       0.96      0.95      0.95      2144\n",
      "          Наука       0.98      0.92      0.95      1586\n",
      "       Общество       0.70      0.74      0.72      7041\n",
      "       Политика       0.85      0.87      0.86      8143\n",
      "   Происшествия       0.76      0.77      0.77      3965\n",
      "Следствие и суд       0.82      0.76      0.79      1827\n",
      "         Футбол       0.98      0.97      0.98      3048\n",
      "\n",
      "       accuracy                           0.83     34542\n",
      "      macro avg       0.86      0.84      0.85     34542\n",
      "   weighted avg       0.83      0.83      0.83     34542\n",
      "\n"
     ]
    }
   ],
   "source": [
    "print(classification_report(y_test, y_pred_lr))"
   ]
  },
  {
   "cell_type": "markdown",
   "id": "dade4500",
   "metadata": {},
   "source": [
    "Обучаем наивный Байес"
   ]
  },
  {
   "cell_type": "code",
   "execution_count": 28,
   "id": "d4836ed1",
   "metadata": {},
   "outputs": [],
   "source": [
    "model_nb = MultinomialNB()"
   ]
  },
  {
   "cell_type": "code",
   "execution_count": 29,
   "id": "8a9cd751",
   "metadata": {},
   "outputs": [
    {
     "data": {
      "text/html": [
       "<style>#sk-container-id-2 {color: black;}#sk-container-id-2 pre{padding: 0;}#sk-container-id-2 div.sk-toggleable {background-color: white;}#sk-container-id-2 label.sk-toggleable__label {cursor: pointer;display: block;width: 100%;margin-bottom: 0;padding: 0.3em;box-sizing: border-box;text-align: center;}#sk-container-id-2 label.sk-toggleable__label-arrow:before {content: \"▸\";float: left;margin-right: 0.25em;color: #696969;}#sk-container-id-2 label.sk-toggleable__label-arrow:hover:before {color: black;}#sk-container-id-2 div.sk-estimator:hover label.sk-toggleable__label-arrow:before {color: black;}#sk-container-id-2 div.sk-toggleable__content {max-height: 0;max-width: 0;overflow: hidden;text-align: left;background-color: #f0f8ff;}#sk-container-id-2 div.sk-toggleable__content pre {margin: 0.2em;color: black;border-radius: 0.25em;background-color: #f0f8ff;}#sk-container-id-2 input.sk-toggleable__control:checked~div.sk-toggleable__content {max-height: 200px;max-width: 100%;overflow: auto;}#sk-container-id-2 input.sk-toggleable__control:checked~label.sk-toggleable__label-arrow:before {content: \"▾\";}#sk-container-id-2 div.sk-estimator input.sk-toggleable__control:checked~label.sk-toggleable__label {background-color: #d4ebff;}#sk-container-id-2 div.sk-label input.sk-toggleable__control:checked~label.sk-toggleable__label {background-color: #d4ebff;}#sk-container-id-2 input.sk-hidden--visually {border: 0;clip: rect(1px 1px 1px 1px);clip: rect(1px, 1px, 1px, 1px);height: 1px;margin: -1px;overflow: hidden;padding: 0;position: absolute;width: 1px;}#sk-container-id-2 div.sk-estimator {font-family: monospace;background-color: #f0f8ff;border: 1px dotted black;border-radius: 0.25em;box-sizing: border-box;margin-bottom: 0.5em;}#sk-container-id-2 div.sk-estimator:hover {background-color: #d4ebff;}#sk-container-id-2 div.sk-parallel-item::after {content: \"\";width: 100%;border-bottom: 1px solid gray;flex-grow: 1;}#sk-container-id-2 div.sk-label:hover label.sk-toggleable__label {background-color: #d4ebff;}#sk-container-id-2 div.sk-serial::before {content: \"\";position: absolute;border-left: 1px solid gray;box-sizing: border-box;top: 0;bottom: 0;left: 50%;z-index: 0;}#sk-container-id-2 div.sk-serial {display: flex;flex-direction: column;align-items: center;background-color: white;padding-right: 0.2em;padding-left: 0.2em;position: relative;}#sk-container-id-2 div.sk-item {position: relative;z-index: 1;}#sk-container-id-2 div.sk-parallel {display: flex;align-items: stretch;justify-content: center;background-color: white;position: relative;}#sk-container-id-2 div.sk-item::before, #sk-container-id-2 div.sk-parallel-item::before {content: \"\";position: absolute;border-left: 1px solid gray;box-sizing: border-box;top: 0;bottom: 0;left: 50%;z-index: -1;}#sk-container-id-2 div.sk-parallel-item {display: flex;flex-direction: column;z-index: 1;position: relative;background-color: white;}#sk-container-id-2 div.sk-parallel-item:first-child::after {align-self: flex-end;width: 50%;}#sk-container-id-2 div.sk-parallel-item:last-child::after {align-self: flex-start;width: 50%;}#sk-container-id-2 div.sk-parallel-item:only-child::after {width: 0;}#sk-container-id-2 div.sk-dashed-wrapped {border: 1px dashed gray;margin: 0 0.4em 0.5em 0.4em;box-sizing: border-box;padding-bottom: 0.4em;background-color: white;}#sk-container-id-2 div.sk-label label {font-family: monospace;font-weight: bold;display: inline-block;line-height: 1.2em;}#sk-container-id-2 div.sk-label-container {text-align: center;}#sk-container-id-2 div.sk-container {/* jupyter's `normalize.less` sets `[hidden] { display: none; }` but bootstrap.min.css set `[hidden] { display: none !important; }` so we also need the `!important` here to be able to override the default hidden behavior on the sphinx rendered scikit-learn.org. See: https://github.com/scikit-learn/scikit-learn/issues/21755 */display: inline-block !important;position: relative;}#sk-container-id-2 div.sk-text-repr-fallback {display: none;}</style><div id=\"sk-container-id-2\" class=\"sk-top-container\"><div class=\"sk-text-repr-fallback\"><pre>MultinomialNB()</pre><b>In a Jupyter environment, please rerun this cell to show the HTML representation or trust the notebook. <br />On GitHub, the HTML representation is unable to render, please try loading this page with nbviewer.org.</b></div><div class=\"sk-container\" hidden><div class=\"sk-item\"><div class=\"sk-estimator sk-toggleable\"><input class=\"sk-toggleable__control sk-hidden--visually\" id=\"sk-estimator-id-2\" type=\"checkbox\" checked><label for=\"sk-estimator-id-2\" class=\"sk-toggleable__label sk-toggleable__label-arrow\">MultinomialNB</label><div class=\"sk-toggleable__content\"><pre>MultinomialNB()</pre></div></div></div></div></div>"
      ],
      "text/plain": [
       "MultinomialNB()"
      ]
     },
     "execution_count": 29,
     "metadata": {},
     "output_type": "execute_result"
    }
   ],
   "source": [
    "model_nb.fit(X_train, y_train)"
   ]
  },
  {
   "cell_type": "code",
   "execution_count": 30,
   "id": "073999a0",
   "metadata": {},
   "outputs": [],
   "source": [
    "y_pred_nb = model_nb.predict(X_test)"
   ]
  },
  {
   "cell_type": "code",
   "execution_count": 31,
   "id": "172d209e",
   "metadata": {},
   "outputs": [
    {
     "name": "stdout",
     "output_type": "stream",
     "text": [
      "                 precision    recall  f1-score   support\n",
      "\n",
      "         Бизнес       0.93      0.24      0.38      1829\n",
      "   Госэкономика       0.78      0.65      0.71      3095\n",
      "       Интернет       0.97      0.21      0.35      1864\n",
      "           Кино       0.98      0.73      0.84      2144\n",
      "          Наука       1.00      0.62      0.77      1586\n",
      "       Общество       0.46      0.74      0.57      7041\n",
      "       Политика       0.64      0.93      0.76      8143\n",
      "   Происшествия       0.83      0.51      0.63      3965\n",
      "Следствие и суд       0.99      0.09      0.16      1827\n",
      "         Футбол       0.99      0.89      0.94      3048\n",
      "\n",
      "       accuracy                           0.67     34542\n",
      "      macro avg       0.86      0.56      0.61     34542\n",
      "   weighted avg       0.76      0.67      0.65     34542\n",
      "\n"
     ]
    }
   ],
   "source": [
    "print(classification_report(y_test, y_pred_nb))"
   ]
  },
  {
   "cell_type": "markdown",
   "id": "1f7c8e03",
   "metadata": {},
   "source": [
    "Ура! Мы великолепны! Можем идти переписывать этот код в AirFlow пайплайн."
   ]
  },
  {
   "cell_type": "markdown",
   "id": "118e4e6f",
   "metadata": {},
   "source": [
    "# Основы AirFlow <a id=\"airflow\"></a>"
   ]
  },
  {
   "cell_type": "markdown",
   "id": "bdf32b0d",
   "metadata": {},
   "source": [
    "Написание AirFlow пайплайна будет состоять из двух частей:\n",
    "  - разбор основных конструкций AirFlow в ноутбуке\n",
    "  - перенесение кода в полноценный пайплайна в py-файле"
   ]
  },
  {
   "cell_type": "markdown",
   "id": "880e064c",
   "metadata": {},
   "source": [
    "## Основа DAG"
   ]
  },
  {
   "cell_type": "markdown",
   "id": "ccb469c9",
   "metadata": {},
   "source": [
    "### Импорты"
   ]
  },
  {
   "cell_type": "code",
   "execution_count": null,
   "id": "dc036d7f",
   "metadata": {},
   "outputs": [],
   "source": [
    "# S3Hook для коннекта к S3. Требует установки apache-airflow-providers-amazon!\n",
    "from airflow.providers.amazon.aws.hooks.s3 import S3Hook\n",
    "# S3Hook для коннекта к базе Postgres. Требует установки apache-airflow-providers-postgres!\n",
    "from airflow.providers.postgres.hooks.postgres import PostgresHook\n",
    "# Основа DAG'a.\n",
    "from airflow.models import DAG\n",
    "# Оператор для исполнения python-кода.\n",
    "from airflow.operators.python_operator import PythonOperator\n",
    "# Date утилита от airflow.\n",
    "from airflow.utils.dates import days_ago"
   ]
  },
  {
   "cell_type": "markdown",
   "id": "bcdad2a9",
   "metadata": {},
   "source": [
    "### Параметры, описывающие работу DAG’а"
   ]
  },
  {
   "cell_type": "code",
   "execution_count": null,
   "id": "e7e0c255",
   "metadata": {},
   "outputs": [],
   "source": [
    "DEFAULT_ARGS = {\n",
    "    \"owner\": \"Name Surname\",  # Ваше имя и фамилия\n",
    "    \"email\": \"example@gmail.com\",  # email в случае настройки алертов на почту\n",
    "    \"email_on_failure\": True,  # Алерт по неудачам\n",
    "    \"email_on_retry\": False,  # Алерт по попыткам\n",
    "    \"retry\": 3,  # Количество попыток\n",
    "    \"retry_delay\": timedelta(minutes=1)  # Задержка между попытками\n",
    "}\n",
    "\n",
    "train_dag = DAG(\n",
    "    dag_id=\"train_models\",  # Имя DAG'a\n",
    "    schedule_interval=\"0 1 * * *\",  # Расписание запусков (ежедневно в полночь)\n",
    "    start_date=days_ago(2),  # Дата запуска\n",
    "    tags=[\"mlops\"],  # Теги\n",
    "    default_args=DEFAULT_ARGS)  # Параметры по умолчанию"
   ]
  },
  {
   "cell_type": "markdown",
   "id": "0f220c16",
   "metadata": {},
   "source": [
    "## PythonOperator"
   ]
  },
  {
   "cell_type": "code",
   "execution_count": 34,
   "id": "9876af80",
   "metadata": {},
   "outputs": [
    {
     "data": {
      "text/plain": [
       "'20240407 18:33'"
      ]
     },
     "execution_count": 34,
     "metadata": {},
     "output_type": "execute_result"
    }
   ],
   "source": [
    "datetime.now().strftime(\"%Y%m%d %H:%M\")"
   ]
  },
  {
   "cell_type": "code",
   "execution_count": null,
   "id": "63013799",
   "metadata": {},
   "outputs": [],
   "source": [
    "# Ниже описана функция инициализации пайплайна, некий шаг 0.\n",
    "# В нем мы хотим зафиксировать таймстемп запуска пайплайна и период обучения.\n",
    "# Период: с сегодня и на два года назад. Вопрос високосных годов нам не важен.\n",
    "def init() -> Dict[str, Any]:\n",
    "    \"\"\"\n",
    "    Step0: Pipeline initialisation.\n",
    "    \"\"\"\n",
    "    info = {}\n",
    "    info[\"start_tiemstamp\"] = datetime.now().strftime(\"%Y%m%d %H:%M\")\n",
    "    info[\"dataset_start\"] = datetime.now().strftime(\"%Y-%m-%d\")\n",
    "    info[\"dataset_end\"] = (datetime.now() -\n",
    "                           timedelta(365 * 2)).strftime(\"%Y-%m-%d\")\n",
    "    # Return нам нужен для того, чтобы передать словарь info в следующий шаг,\n",
    "    # (вспомниаем слайды по XCom).\n",
    "    return info\n",
    "\n",
    "# А так мы создаем шаг на языке AirFlow.\n",
    "task_init = PythonOperator(task_id=\"init\", python_callable=init, dag=train_dag)"
   ]
  },
  {
   "cell_type": "markdown",
   "id": "3d5a1c33",
   "metadata": {},
   "source": [
    "## XCOM"
   ]
  },
  {
   "cell_type": "code",
   "execution_count": null,
   "id": "6c5c7ddd",
   "metadata": {},
   "outputs": [],
   "source": [
    "def init() -> Dict[str, Any]:\n",
    "    \"\"\"\n",
    "    Step0: Pipeline initialisation.\n",
    "    \"\"\"\n",
    "    info = {}\n",
    "    info[\"start_tiemstamp\"] = datetime.now().strftime(\"%Y%m%d %H:%M\")\n",
    "    info[\"dataset_start\"] = datetime.now().strftime(\"%Y-%m-%d\")\n",
    "    info[\"dataset_end\"] = (datetime.now() -\n",
    "                           timedelta(365 * 2)).strftime(\"%Y-%m-%d\")\n",
    "    # Отправили info в XCom.\n",
    "    return info\n",
    "\n",
    "\n",
    "def get_data_from_postgres(**kwargs) -> Dict[str, Any]:\n",
    "    \"\"\"\n",
    "    Step1: Read data from news PG table and save to S3.\n",
    "    \"\"\"\n",
    "    # Вытаскиваем task instance.\n",
    "    ti = kwargs[\"ti\"]\n",
    "    # Вытаскиваем return от задания init.\n",
    "    info = ti.xcom_pull(task_ids=\"init\")\n",
    "    \n",
    "    ### SOME CODE HERE ###\n",
    "    \n",
    "    return info\n",
    "\n",
    "\n",
    "task_get_data = PythonOperator(task_id=\"get_data\",\n",
    "                               python_callable=get_data_from_postgres,\n",
    "                               dag=train_dag,\n",
    "                               # Не забываем включить контекст для операторов, принимающих его.\n",
    "                               provide_context=True)"
   ]
  },
  {
   "cell_type": "markdown",
   "id": "cc0aaa1f",
   "metadata": {},
   "source": [
    "## Hooks"
   ]
  },
  {
   "cell_type": "markdown",
   "id": "b1fdea7c",
   "metadata": {},
   "source": [
    "Хуки используют созданные администратом connections."
   ]
  },
  {
   "cell_type": "markdown",
   "id": "4e08bca7",
   "metadata": {},
   "source": [
    "### Postgres Hook"
   ]
  },
  {
   "cell_type": "code",
   "execution_count": null,
   "id": "9b587c3b",
   "metadata": {},
   "outputs": [],
   "source": [
    "def get_data_from_postgres(**kwargs) -> Dict[str, Any]:\n",
    "    \"\"\"\n",
    "    Step1: Read data from news PG table and save to S3.\n",
    "    \"\"\"\n",
    "    start = 'somedate'\n",
    "    end = 'somedate'\n",
    "    \n",
    "    # Использовать созданный ранее PG connection\n",
    "    pg_hook = PostgresHook(\"pg_connection\")\n",
    "    con = pg_hook.get_conn()\n",
    "\n",
    "    # Прочитать данные из таблицы news\n",
    "    data = pd.read_sql_query(\n",
    "        f\"SELECT * FROM news WHERE date BETWEEN '{start}' and '{end}'\", con)\n",
    "    \n",
    "    ### SOME CODE HERE ###"
   ]
  },
  {
   "cell_type": "markdown",
   "id": "50eb80a6",
   "metadata": {},
   "source": [
    "### S3 Hook"
   ]
  },
  {
   "cell_type": "markdown",
   "id": "9be7c200",
   "metadata": {},
   "source": [
    "Сохранение на S3"
   ]
  },
  {
   "cell_type": "code",
   "execution_count": null,
   "id": "f5e60e70",
   "metadata": {},
   "outputs": [],
   "source": [
    "def get_data_from_postgres(**kwargs) -> Dict[str, Any]:\n",
    "    \"\"\"\n",
    "    Step1: Read data from news PG table and save to S3.\n",
    "    \"\"\"\n",
    "    ### SOME CODE HERE ###\n",
    "    data = ...\n",
    "\n",
    "    # Использовать созданный ранее S3 connection\n",
    "    s3_hook = S3Hook(\"s3_connection\")\n",
    "\n",
    "    # Сохранить файл в формате pkl на S3\n",
    "    pickle_byte_obj = pickle.dumps(data)\n",
    "    resource.Object(BUCKET, \"bootcamp/datasets/news.pkl\").put(Body=pickle_byte_obj)"
   ]
  },
  {
   "cell_type": "markdown",
   "id": "8ae7965a",
   "metadata": {},
   "source": [
    "Чтение с S3"
   ]
  },
  {
   "cell_type": "code",
   "execution_count": null,
   "id": "4d37a853",
   "metadata": {},
   "outputs": [],
   "source": [
    "def prepare_data(**kwargs) -> Dict[str, Any]:\n",
    "    \"\"\"\n",
    "    Step 2: Prepare data for training.\n",
    "    \"\"\"\n",
    "\n",
    "    ### SOME CODE HERE ###\n",
    "\n",
    "    # Использовать созданный ранее S3 connection\n",
    "    s3_hook = S3Hook(\"s3_connection\")\n",
    "    \n",
    "    # Прочитать файл в формате pkl с S3\n",
    "    file = s3_hook.download_file(key=\"bootcamp/datasets/news.pkl\", bucket_name=BUCKET)\n",
    "    data = pd.read_pickle(file)"
   ]
  },
  {
   "cell_type": "markdown",
   "id": "fdd2209b",
   "metadata": {},
   "source": [
    "## Operator kwargs\n",
    "Способ передачи параметров в оператор извне (но не из другого задания)."
   ]
  },
  {
   "cell_type": "code",
   "execution_count": 37,
   "id": "6e983ecc",
   "metadata": {},
   "outputs": [],
   "source": [
    "# Зададим словарь моделей\n",
    "models = dict(\n",
    "    zip([\"logreg\", \"nb\"], [\n",
    "        LogisticRegression(max_iter=1000),\n",
    "        MultinomialNB(),\n",
    "    ]))"
   ]
  },
  {
   "cell_type": "code",
   "execution_count": 41,
   "id": "2b9c2642",
   "metadata": {},
   "outputs": [
    {
     "data": {
      "text/plain": [
       "{'logreg': LogisticRegression(max_iter=1000), 'nb': MultinomialNB()}"
      ]
     },
     "execution_count": 41,
     "metadata": {},
     "output_type": "execute_result"
    }
   ],
   "source": [
    "models"
   ]
  },
  {
   "cell_type": "code",
   "execution_count": 42,
   "id": "33eb6144",
   "metadata": {},
   "outputs": [
    {
     "data": {
      "text/plain": [
       "'logreg'"
      ]
     },
     "execution_count": 42,
     "metadata": {},
     "output_type": "execute_result"
    }
   ],
   "source": [
    "model_name = list(models.keys())[0]\n",
    "model_name"
   ]
  },
  {
   "cell_type": "code",
   "execution_count": null,
   "id": "5e35504d",
   "metadata": {},
   "outputs": [],
   "source": [
    "task_example = PythonOperator(task_id=f\"train_model\",\n",
    "                              python_callable=train_model,\n",
    "                              dag=dag,\n",
    "                              provide_context=True,\n",
    "                              op_kwargs={\"model_name\": model_name})"
   ]
  },
  {
   "cell_type": "code",
   "execution_count": null,
   "id": "75e24364",
   "metadata": {},
   "outputs": [],
   "source": [
    "def train_model(**kwargs) -> Dict[str, Any]:\n",
    "    \"\"\"\n",
    "    Step 3: Train logistic regression.\n",
    "    \"\"\"\n",
    "    ti = kwargs[\"ti\"]\n",
    "    info = ti.xcom_pull(task_ids=\"prepare_data\")\n",
    "    name = kwargs[\"model_name\"]\n",
    "\n",
    "    print(name)"
   ]
  },
  {
   "cell_type": "code",
   "execution_count": null,
   "id": "f09232f6",
   "metadata": {},
   "outputs": [],
   "source": [
    "task_example = PythonOperator(task_id=f\"train_model\",\n",
    "                              python_callable=train_model,\n",
    "                              dag=dag,\n",
    "                              provide_context=True,\n",
    "                              # Передаем logreg в качстве model_name в ti.\n",
    "                              op_kwargs={\"model_name\": model_name})"
   ]
  },
  {
   "cell_type": "code",
   "execution_count": null,
   "id": "8b176726",
   "metadata": {},
   "outputs": [],
   "source": [
    "def train_model(**kwargs) -> Dict[str, Any]:\n",
    "    \"\"\"\n",
    "    Step 3: Train logistic regression.\n",
    "    \"\"\"\n",
    "    # Вытаскиваем полученное имя модели\n",
    "    ti = kwargs[\"ti\"]\n",
    "    info = ti.xcom_pull(task_ids=\"prepare_data\")\n",
    "    name = kwargs[\"model_name\"]\n",
    "\n",
    "    print(name)"
   ]
  },
  {
   "cell_type": "markdown",
   "id": "aea1b107",
   "metadata": {},
   "source": [
    "## Создание task instance в цикле"
   ]
  },
  {
   "cell_type": "code",
   "execution_count": null,
   "id": "9a54e8c0",
   "metadata": {},
   "outputs": [],
   "source": [
    "task_train_models = [\n",
    "    PythonOperator(task_id=f\"train_{model_name}\",\n",
    "                   python_callable=train_model,\n",
    "                   dag=dag,\n",
    "                   provide_context=True,\n",
    "                   op_kwargs={\"model_name\": model_name})\n",
    "    for model_name in models.keys()\n",
    "]"
   ]
  },
  {
   "cell_type": "markdown",
   "id": "a8722f46",
   "metadata": {},
   "source": [
    "## Создание последовательности заданий в DAG"
   ]
  },
  {
   "cell_type": "code",
   "execution_count": null,
   "id": "dbf16b82",
   "metadata": {},
   "outputs": [],
   "source": [
    "task_init >> task_get_data >> task_prepare_data >> task_train_models >> task_save_results"
   ]
  },
  {
   "cell_type": "markdown",
   "id": "d23a01d6",
   "metadata": {},
   "source": [
    "# py-файл<a id=\"py\"></a>"
   ]
  },
  {
   "cell_type": "markdown",
   "id": "0d9da7e8",
   "metadata": {},
   "source": [
    "А теперь перенесем все в py-файл и запустим."
   ]
  }
 ],
 "metadata": {
  "kernelspec": {
   "display_name": "Python 3 (ipykernel)",
   "language": "python",
   "name": "python3"
  },
  "language_info": {
   "codemirror_mode": {
    "name": "ipython",
    "version": 3
   },
   "file_extension": ".py",
   "mimetype": "text/x-python",
   "name": "python",
   "nbconvert_exporter": "python",
   "pygments_lexer": "ipython3",
   "version": "3.11.8"
  },
  "toc": {
   "base_numbering": 1,
   "nav_menu": {},
   "number_sections": true,
   "sideBar": true,
   "skip_h1_title": false,
   "title_cell": "Table of Contents",
   "title_sidebar": "Contents",
   "toc_cell": false,
   "toc_position": {},
   "toc_section_display": true,
   "toc_window_display": false
  }
 },
 "nbformat": 4,
 "nbformat_minor": 5
}
